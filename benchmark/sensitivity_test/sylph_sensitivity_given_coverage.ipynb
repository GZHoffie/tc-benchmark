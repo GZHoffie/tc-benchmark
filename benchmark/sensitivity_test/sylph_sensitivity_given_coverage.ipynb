{
 "cells": [
  {
   "cell_type": "code",
   "execution_count": 1,
   "metadata": {},
   "outputs": [
    {
     "name": "stderr",
     "output_type": "stream",
     "text": [
      "/tmp/ipykernel_1933000/2215020646.py:3: DtypeWarning: Columns (62,64,66,75,83,84) have mixed types. Specify dtype option on import or set low_memory=False.\n",
      "  metadata_df = pd.read_csv(\"/home/zhenhao/TDT/gtdb_utils/metadata_with_taxid.csv\")\n"
     ]
    }
   ],
   "source": [
    "import pandas as pd\n",
    "\n",
    "metadata_df = pd.read_csv(\"/home/zhenhao/TDT/gtdb_utils/metadata_with_taxid.csv\")"
   ]
  },
  {
   "cell_type": "code",
   "execution_count": 2,
   "metadata": {},
   "outputs": [],
   "source": [
    "import os\n",
    "\n",
    "def extract_refseq_accession_from_genome_file_name(genome_file_name):\n",
    "    basename = os.path.basename(genome_file_name)\n",
    "    accession = \"_\".join(basename.split(\"_\")[:2])\n",
    "    return \"RS_\" + accession\n",
    "\n",
    "\n",
    "def accession_to_species_name(accession, type=\"ncbi_genbank_assembly_accession\", identifier=\"species_taxid\"):\n",
    "    \"\"\"\n",
    "    type is either \"ncbi_genbank_assembly_accession\" or \"accession\" (RefSeq accession).\n",
    "    identifier is either \"[species/genus/family]_taxid\" or \"[species/genus/family]_name\"\n",
    "    \"\"\"\n",
    "    sample_df = metadata_df[metadata_df[type] == accession]\n",
    "    if len(sample_df) != 1:\n",
    "        return None\n",
    "    return sample_df.iloc[0][identifier]"
   ]
  },
  {
   "cell_type": "code",
   "execution_count": 3,
   "metadata": {},
   "outputs": [
    {
     "name": "stdout",
     "output_type": "stream",
     "text": [
      "0.008 sensitivity: 0.0 0.04477611940298507 0.23880597014925373 12.561999999999998\n",
      "0.015 sensitivity: 0.1044776119402985 0.14925373134328357 0.7164179104477612 35.526999999999994\n",
      "0.0284 sensitivity: 0.3283582089552239 0.417910447761194 0.7910447761194029 25.294541666666664\n",
      "0.0535 sensitivity: 0.582089552238806 0.7164179104477612 0.8059701492537313 8.810255147058825\n",
      "0.101 sensitivity: 0.7611940298507462 0.8059701492537313 0.8208955223880597 4.249144097639055\n"
     ]
    }
   ],
   "source": [
    "import numpy as np\n",
    "\n",
    "coverages = [0.008, 0.015, 0.0284, 0.0535, 0.101, 0.1902, 0.3585, 0.6757]\n",
    "sylph_output_dir = \"/home/zhenhao/tc-benchmark/output/sylph_sensitivity_output_k_21/\"\n",
    "data_dir = \"/home/zhenhao/tc-benchmark/data/sensitivity_test/\"\n",
    "res = {}\n",
    "\n",
    "for coverage in coverages:\n",
    "    # Read ground truth\n",
    "    ground_truth_df = pd.read_csv(data_dir + \"other_coverage_\" + str(coverage) + \"_abundance.csv\")\n",
    "    ground_truth_species_name = [accession_to_species_name(i, identifier=\"species_name\") for i in ground_truth_df[\"accession\"]]\n",
    "    ground_truth_species_id = [accession_to_species_name(i, identifier=\"species_taxid\") for i in ground_truth_df[\"accession\"]]\n",
    "    ground_truth_df = pd.DataFrame({\"species_name\": ground_truth_species_name,\n",
    "                                    \"species_id\": ground_truth_species_id, \n",
    "                                    \"true_coverage\": [coverage] * len(ground_truth_species_name)})\n",
    "    \n",
    "    # Results of sylph query\n",
    "    try:\n",
    "        sylph_query_results_df = pd.read_csv(sylph_output_dir + \"query_other_\" + str(coverage) + \".tsv\", sep='\\t')\n",
    "        sylph_query_results_df[\"species_name\"] = [accession_to_species_name(\n",
    "                                         extract_refseq_accession_from_genome_file_name(i), type=\"accession\", identifier=\"species_name\"\n",
    "                                    ) for i in sylph_query_results_df[\"Genome_file\"]]\n",
    "        sylph_query_results_df[\"species_id\"] = [accession_to_species_name(\n",
    "                                         extract_refseq_accession_from_genome_file_name(i), type=\"accession\", identifier=\"species_taxid\"\n",
    "                                  ) for i in sylph_query_results_df[\"Genome_file\"]]\n",
    "    except:\n",
    "        continue\n",
    "    \n",
    "    # Find sensitivity\n",
    "    ANI_res = []\n",
    "    cov_res = []\n",
    "    for i in range(len(ground_truth_df)):\n",
    "        # Check if the species is in the query results\n",
    "        species_name = ground_truth_df.iloc[i][\"species_name\"]\n",
    "        species_id = ground_truth_df.iloc[i][\"species_id\"]\n",
    "        \n",
    "        # Find the corresponding rows in query results\n",
    "        sub_df = sylph_query_results_df[(sylph_query_results_df[\"species_name\"] == species_name) | (sylph_query_results_df[\"species_id\"] == species_id)]\n",
    "        max_estimated_ANI = 0 if len(sub_df) == 0 else np.max(sub_df[\"Adjusted_ANI\"])\n",
    "        avg_estimated_coverage = 0 if len(sub_df) == 0 else np.average(sub_df[\"Eff_cov\"])\n",
    "\n",
    "        ANI_res.append(max_estimated_ANI)\n",
    "        cov_res.append(avg_estimated_coverage)\n",
    "\n",
    "    # Results of sylph profile\n",
    "    #try:\n",
    "    #    sylph_profile_results_df = pd.read_csv(sylph_output_dir + \"profile_\" + str(coverage) + \".tsv\", sep='\\t')\n",
    "    #    sylph_profile_species = [accession_to_species_name(extract_refseq_accession_from_genome_file_name(i), type=\"accession\") for i in sylph_profile_results_df[\"Genome_file\"]]\n",
    "    #    sylph_profile_coverage = sylph_profile_results_df[\"Eff_cov\"]\n",
    "    #except:\n",
    "    #    sylph_profile_species = []\n",
    "    #    sylph_profile_coverage = []\n",
    "    \n",
    "    ## Sensitivity\n",
    "    sensitivity_95 = np.average(np.array(ANI_res) > 95)\n",
    "    sensitivity_90 = np.average(np.array(ANI_res) > 90)\n",
    "    sensitivity_80 = np.average(np.array(ANI_res) > 80)\n",
    "    coverage_l1 = np.sum(np.abs(ground_truth_df[\"true_coverage\"] - np.array(cov_res)))\n",
    "\n",
    "    # Calculate metrics\n",
    "    #query_sensitivity = len(set(ground_truth_species).intersection(set(sylph_query_species))) / len(set(ground_truth_species))\n",
    "    #profile_sensitivity = len(set(ground_truth_species).intersection(set(sylph_profile_species))) / len(set(ground_truth_species))\n",
    "    res[coverage] = (sensitivity_95, sensitivity_90, sensitivity_80, coverage_l1)\n",
    "    print(coverage, \"sensitivity:\", sensitivity_95, sensitivity_90, sensitivity_80, coverage_l1)"
   ]
  },
  {
   "cell_type": "code",
   "execution_count": 54,
   "metadata": {},
   "outputs": [
    {
     "data": {
      "text/html": [
       "<div>\n",
       "<style scoped>\n",
       "    .dataframe tbody tr th:only-of-type {\n",
       "        vertical-align: middle;\n",
       "    }\n",
       "\n",
       "    .dataframe tbody tr th {\n",
       "        vertical-align: top;\n",
       "    }\n",
       "\n",
       "    .dataframe thead th {\n",
       "        text-align: right;\n",
       "    }\n",
       "</style>\n",
       "<table border=\"1\" class=\"dataframe\">\n",
       "  <thead>\n",
       "    <tr style=\"text-align: right;\">\n",
       "      <th></th>\n",
       "      <th>species</th>\n",
       "      <th>true_coverage</th>\n",
       "    </tr>\n",
       "  </thead>\n",
       "  <tbody>\n",
       "    <tr>\n",
       "      <th>0</th>\n",
       "      <td>28901</td>\n",
       "      <td>0.6757</td>\n",
       "    </tr>\n",
       "    <tr>\n",
       "      <th>1</th>\n",
       "      <td>1667</td>\n",
       "      <td>0.6757</td>\n",
       "    </tr>\n",
       "    <tr>\n",
       "      <th>2</th>\n",
       "      <td>573</td>\n",
       "      <td>0.6757</td>\n",
       "    </tr>\n",
       "    <tr>\n",
       "      <th>3</th>\n",
       "      <td>1463165</td>\n",
       "      <td>0.6757</td>\n",
       "    </tr>\n",
       "    <tr>\n",
       "      <th>4</th>\n",
       "      <td>261299</td>\n",
       "      <td>0.6757</td>\n",
       "    </tr>\n",
       "    <tr>\n",
       "      <th>...</th>\n",
       "      <td>...</td>\n",
       "      <td>...</td>\n",
       "    </tr>\n",
       "    <tr>\n",
       "      <th>62</th>\n",
       "      <td>990412</td>\n",
       "      <td>0.6757</td>\n",
       "    </tr>\n",
       "    <tr>\n",
       "      <th>63</th>\n",
       "      <td>1352</td>\n",
       "      <td>0.6757</td>\n",
       "    </tr>\n",
       "    <tr>\n",
       "      <th>64</th>\n",
       "      <td>2593644</td>\n",
       "      <td>0.6757</td>\n",
       "    </tr>\n",
       "    <tr>\n",
       "      <th>65</th>\n",
       "      <td>1173270</td>\n",
       "      <td>0.6757</td>\n",
       "    </tr>\n",
       "    <tr>\n",
       "      <th>66</th>\n",
       "      <td>1642</td>\n",
       "      <td>0.6757</td>\n",
       "    </tr>\n",
       "  </tbody>\n",
       "</table>\n",
       "<p>67 rows × 2 columns</p>\n",
       "</div>"
      ],
      "text/plain": [
       "    species  true_coverage\n",
       "0     28901         0.6757\n",
       "1      1667         0.6757\n",
       "2       573         0.6757\n",
       "3   1463165         0.6757\n",
       "4    261299         0.6757\n",
       "..      ...            ...\n",
       "62   990412         0.6757\n",
       "63     1352         0.6757\n",
       "64  2593644         0.6757\n",
       "65  1173270         0.6757\n",
       "66     1642         0.6757\n",
       "\n",
       "[67 rows x 2 columns]"
      ]
     },
     "execution_count": 54,
     "metadata": {},
     "output_type": "execute_result"
    }
   ],
   "source": [
    "ground_truth_df"
   ]
  },
  {
   "cell_type": "code",
   "execution_count": 47,
   "metadata": {},
   "outputs": [],
   "source": [
    "sensitivity_95_list = [res[i][0] for i in coverages]\n",
    "sensitivity_90_list = [res[i][1] for i in coverages]\n",
    "sensitivity_80_list = [res[i][2] for i in coverages]\n",
    "coverage_l1_list = [res[i][3] for i in coverages]\n",
    "\n",
    "res_df = pd.DataFrame({\"coverage\": coverages, \"sensitivity_95_ANI\": sensitivity_95_list, \"sensitivity_90_ANI\": sensitivity_90_list, \"sensitivity_80_ANI\": sensitivity_80_list, \"coverage_l1_error\":coverage_l1_list})"
   ]
  },
  {
   "cell_type": "code",
   "execution_count": 29,
   "metadata": {},
   "outputs": [
    {
     "data": {
      "text/plain": [
       "Text(0, 0.5, 'Coverage L1 error')"
      ]
     },
     "execution_count": 29,
     "metadata": {},
     "output_type": "execute_result"
    },
    {
     "data": {
      "image/png": "[encoded data removed]",
      "text/plain": [
       "<Figure size 640x480 with 1 Axes>"
      ]
     },
     "metadata": {},
     "output_type": "display_data"
    }
   ],
   "source": [
    "import seaborn\n",
    "import matplotlib.pyplot as plt\n",
    "\n",
    "seaborn.lineplot(data=res_df[[\"coverage_l1_error\", \"coverage\"]].set_index(\"coverage\"))\n",
    "plt.xscale('log')\n",
    "plt.ylabel('Coverage L1 error')\n",
    "#sensitivity_95_list"
   ]
  },
  {
   "cell_type": "code",
   "execution_count": 31,
   "metadata": {},
   "outputs": [],
   "source": [
    "original_results = sensitivity_95_list"
   ]
  },
  {
   "cell_type": "code",
   "execution_count": 34,
   "metadata": {},
   "outputs": [],
   "source": [
    "c_20_results = sensitivity_95_list"
   ]
  },
  {
   "cell_type": "code",
   "execution_count": 36,
   "metadata": {},
   "outputs": [
    {
     "data": {
      "text/plain": [
       "[0.0,\n",
       " 0.014925373134328358,\n",
       " 0.3283582089552239,\n",
       " 0.7014925373134329,\n",
       " 0.7910447761194029,\n",
       " 0.7910447761194029,\n",
       " 0.7910447761194029,\n",
       " 0.7910447761194029]"
      ]
     },
     "execution_count": 36,
     "metadata": {},
     "output_type": "execute_result"
    }
   ],
   "source": [
    "original_results"
   ]
  },
  {
   "cell_type": "code",
   "execution_count": 37,
   "metadata": {},
   "outputs": [
    {
     "data": {
      "text/plain": [
       "[0.0,\n",
       " 0.014925373134328358,\n",
       " 0.3283582089552239,\n",
       " 0.7014925373134329,\n",
       " 0.7910447761194029,\n",
       " 0.7910447761194029,\n",
       " 0.7910447761194029,\n",
       " 0.7910447761194029]"
      ]
     },
     "execution_count": 37,
     "metadata": {},
     "output_type": "execute_result"
    }
   ],
   "source": [
    "c_20_results"
   ]
  },
  {
   "cell_type": "code",
   "execution_count": 44,
   "metadata": {},
   "outputs": [
    {
     "data": {
      "text/plain": [
       "[0.0,\n",
       " 0.014925373134328358,\n",
       " 0.3283582089552239,\n",
       " 0.7014925373134329,\n",
       " 0.7910447761194029,\n",
       " 0.7910447761194029,\n",
       " 0.7910447761194029,\n",
       " 0.7910447761194029]"
      ]
     },
     "execution_count": 44,
     "metadata": {},
     "output_type": "execute_result"
    }
   ],
   "source": [
    "import copy\n",
    "\n",
    "original_results = copy.deepcopy(sensitivity_95_list)\n",
    "original_results"
   ]
  },
  {
   "cell_type": "code",
   "execution_count": 48,
   "metadata": {},
   "outputs": [
    {
     "data": {
      "text/plain": [
       "[0.014925373134328358,\n",
       " 0.19402985074626866,\n",
       " 0.44776119402985076,\n",
       " 0.6865671641791045,\n",
       " 0.7910447761194029,\n",
       " 0.7910447761194029,\n",
       " 0.7910447761194029,\n",
       " 0.7910447761194029]"
      ]
     },
     "execution_count": 48,
     "metadata": {},
     "output_type": "execute_result"
    }
   ],
   "source": [
    "c_20_results = copy.deepcopy(sensitivity_95_list)\n",
    "c_20_results"
   ]
  },
  {
   "cell_type": "code",
   "execution_count": null,
   "metadata": {},
   "outputs": [],
   "source": []
  }
 ],
 "metadata": {
  "kernelspec": {
   "display_name": "Python 3",
   "language": "python",
   "name": "python3"
  },
  "language_info": {
   "codemirror_mode": {
    "name": "ipython",
    "version": 3
   },
   "file_extension": ".py",
   "mimetype": "text/x-python",
   "name": "python",
   "nbconvert_exporter": "python",
   "pygments_lexer": "ipython3",
   "version": "3.10.12"
  }
 },
 "nbformat": 4,
 "nbformat_minor": 2
}
